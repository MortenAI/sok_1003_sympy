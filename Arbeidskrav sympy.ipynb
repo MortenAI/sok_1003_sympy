{
 "cells": [
  {
   "cell_type": "code",
   "execution_count": 8,
   "id": "c14a6d9d-c14e-4a65-80c4-0ffd66dff129",
   "metadata": {},
   "outputs": [],
   "source": [
    "import sympy as sp\n",
    "x, y=sp.symbols('x y')"
   ]
  },
  {
   "cell_type": "code",
   "execution_count": 9,
   "id": "ea5c1e9a-d14c-4705-b961-2468b4e8cc11",
   "metadata": {},
   "outputs": [
    {
     "data": {
      "text/latex": [
       "$\\displaystyle 2 x + 4 y = 6$"
      ],
      "text/plain": [
       "Eq(2*x + 4*y, 6)"
      ]
     },
     "execution_count": 9,
     "metadata": {},
     "output_type": "execute_result"
    }
   ],
   "source": [
    "# Likningssett 15 oppgave 1a)\n",
    "\n",
    "eq1=sp.Eq(2*x + 4*y,6)\n",
    "eq1"
   ]
  },
  {
   "cell_type": "code",
   "execution_count": 12,
   "id": "ef183ffa-7321-4e91-a5bd-a53fd2c077eb",
   "metadata": {},
   "outputs": [
    {
     "data": {
      "text/latex": [
       "$\\displaystyle - 2 x + y = 4$"
      ],
      "text/plain": [
       "Eq(-2*x + y, 4)"
      ]
     },
     "execution_count": 12,
     "metadata": {},
     "output_type": "execute_result"
    }
   ],
   "source": [
    "eq2=sp.Eq(-2*x + y,4)\n",
    "eq2"
   ]
  },
  {
   "cell_type": "code",
   "execution_count": 13,
   "id": "c6b60d20-7ce4-47aa-a76e-5eaa48ddc290",
   "metadata": {},
   "outputs": [
    {
     "data": {
      "text/latex": [
       "$\\displaystyle 2 x - y = -1$"
      ],
      "text/plain": [
       "Eq(2*x - y, -1)"
      ]
     },
     "execution_count": 13,
     "metadata": {},
     "output_type": "execute_result"
    }
   ],
   "source": [
    "# Likningssett 15 oppgave 1b)\n",
    "\n",
    "eq1=sp.Eq(2*x - y,-1)\n",
    "eq1"
   ]
  },
  {
   "cell_type": "code",
   "execution_count": 17,
   "id": "dfe74ae9-259e-46e5-97d0-4b9f60030ffc",
   "metadata": {},
   "outputs": [
    {
     "data": {
      "text/latex": [
       "$\\displaystyle x^{2} + x - y = 1$"
      ],
      "text/plain": [
       "Eq(x**2 + x - y, 1)"
      ]
     },
     "execution_count": 17,
     "metadata": {},
     "output_type": "execute_result"
    }
   ],
   "source": [
    "eq2=sp.Eq(x**2 + x - y,1)\n",
    "eq2"
   ]
  },
  {
   "cell_type": "code",
   "execution_count": 26,
   "id": "bf2346be-dd22-458d-845d-c5a4b34df427",
   "metadata": {},
   "outputs": [
    {
     "data": {
      "text/latex": [
       "$\\displaystyle 3 x - 12 = - 6 y$"
      ],
      "text/plain": [
       "Eq(3*x - 12, -6*y)"
      ]
     },
     "execution_count": 26,
     "metadata": {},
     "output_type": "execute_result"
    }
   ],
   "source": [
    "# Likningssett 15 oppgave 2a)\n",
    "\n",
    "eq1=sp.Eq(3*x - 12, -6*y)\n",
    "eq1"
   ]
  },
  {
   "cell_type": "code",
   "execution_count": 28,
   "id": "21e65be3-03f5-4646-8342-1a97b9728376",
   "metadata": {},
   "outputs": [
    {
     "data": {
      "text/latex": [
       "$\\displaystyle 4 x - 8 y = 16$"
      ],
      "text/plain": [
       "Eq(4*x - 8*y, 16)"
      ]
     },
     "execution_count": 28,
     "metadata": {},
     "output_type": "execute_result"
    }
   ],
   "source": [
    "eq2=sp.Eq(4*x - 8*y,16)\n",
    "eq2"
   ]
  },
  {
   "cell_type": "code",
   "execution_count": 30,
   "id": "56f15a5c-7b11-45b0-bda9-e7ec63d11bea",
   "metadata": {},
   "outputs": [
    {
     "data": {
      "text/latex": [
       "$\\displaystyle x^{2} + 4 x - 3 = 3 y$"
      ],
      "text/plain": [
       "Eq(x**2 + 4*x - 3, 3*y)"
      ]
     },
     "execution_count": 30,
     "metadata": {},
     "output_type": "execute_result"
    }
   ],
   "source": [
    "# Likningssett 15 oppgave 2b)\n",
    "\n",
    "eq1=sp.Eq(x**2 + 4*x - 3,3*y)\n",
    "eq1"
   ]
  },
  {
   "cell_type": "code",
   "execution_count": 33,
   "id": "978d2538-aaa8-494c-9253-60581d6dda31",
   "metadata": {},
   "outputs": [
    {
     "data": {
      "text/latex": [
       "$\\displaystyle 2 y = 8 - x$"
      ],
      "text/plain": [
       "Eq(2*y, 8 - x)"
      ]
     },
     "execution_count": 33,
     "metadata": {},
     "output_type": "execute_result"
    }
   ],
   "source": [
    "eq2=sp.Eq(2*y,8 - x)\n",
    "eq2"
   ]
  },
  {
   "cell_type": "code",
   "execution_count": null,
   "id": "4a4f0310-b53f-46c6-9a97-140f3c3f57df",
   "metadata": {},
   "outputs": [],
   "source": []
  }
 ],
 "metadata": {
  "kernelspec": {
   "display_name": "Python 3 (ipykernel)",
   "language": "python",
   "name": "python3"
  },
  "language_info": {
   "codemirror_mode": {
    "name": "ipython",
    "version": 3
   },
   "file_extension": ".py",
   "mimetype": "text/x-python",
   "name": "python",
   "nbconvert_exporter": "python",
   "pygments_lexer": "ipython3",
   "version": "3.9.5"
  }
 },
 "nbformat": 4,
 "nbformat_minor": 5
}

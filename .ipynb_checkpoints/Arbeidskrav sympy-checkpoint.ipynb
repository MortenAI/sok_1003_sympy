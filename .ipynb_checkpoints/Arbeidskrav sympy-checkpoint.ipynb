{
 "cells": [
  {
   "cell_type": "code",
   "execution_count": 188,
   "id": "c14a6d9d-c14e-4a65-80c4-0ffd66dff129",
   "metadata": {},
   "outputs": [],
   "source": [
    "import sympy as sp\n",
    "x, y=sp.symbols('x y')\n",
    "\n",
    "from sympy.solvers import solve"
   ]
  },
  {
   "cell_type": "code",
   "execution_count": 201,
   "id": "ea5c1e9a-d14c-4705-b961-2468b4e8cc11",
   "metadata": {},
   "outputs": [
    {
     "data": {
      "text/latex": [
       "$\\displaystyle 2 x + 4 y = 6$"
      ],
      "text/plain": [
       "Eq(2*x + 4*y, 6)"
      ]
     },
     "execution_count": 201,
     "metadata": {},
     "output_type": "execute_result"
    }
   ],
   "source": [
    "# Likningssett 15 \n",
    "# oppgave 1a)\n",
    "\n",
    "eq1=sp.Eq(2*x + 4*y,6)\n",
    "eq1"
   ]
  },
  {
   "cell_type": "code",
   "execution_count": 202,
   "id": "ef183ffa-7321-4e91-a5bd-a53fd2c077eb",
   "metadata": {},
   "outputs": [
    {
     "data": {
      "text/latex": [
       "$\\displaystyle - 2 x + y = 4$"
      ],
      "text/plain": [
       "Eq(-2*x + y, 4)"
      ]
     },
     "execution_count": 202,
     "metadata": {},
     "output_type": "execute_result"
    }
   ],
   "source": [
    "eq2=sp.Eq(-2*x + y,4)\n",
    "eq2"
   ]
  },
  {
   "cell_type": "code",
   "execution_count": 203,
   "id": "0801584a-1143-4c8d-aa2d-ea8bc428957a",
   "metadata": {},
   "outputs": [
    {
     "data": {
      "text/plain": [
       "{x: -1, y: 2}"
      ]
     },
     "execution_count": 203,
     "metadata": {},
     "output_type": "execute_result"
    }
   ],
   "source": [
    "sol=solve([eq1,eq2],[x,y])\n",
    "sol"
   ]
  },
  {
   "cell_type": "code",
   "execution_count": 204,
   "id": "c6b60d20-7ce4-47aa-a76e-5eaa48ddc290",
   "metadata": {},
   "outputs": [
    {
     "data": {
      "text/latex": [
       "$\\displaystyle 2 x - y = -1$"
      ],
      "text/plain": [
       "Eq(2*x - y, -1)"
      ]
     },
     "execution_count": 204,
     "metadata": {},
     "output_type": "execute_result"
    }
   ],
   "source": [
    "# Likningssett 15 \n",
    "# oppgave 1b)\n",
    "\n",
    "eq1=sp.Eq(2*x - y,-1)\n",
    "eq1"
   ]
  },
  {
   "cell_type": "code",
   "execution_count": 205,
   "id": "dfe74ae9-259e-46e5-97d0-4b9f60030ffc",
   "metadata": {},
   "outputs": [
    {
     "data": {
      "text/latex": [
       "$\\displaystyle x^{2} + x - y = 1$"
      ],
      "text/plain": [
       "Eq(x**2 + x - y, 1)"
      ]
     },
     "execution_count": 205,
     "metadata": {},
     "output_type": "execute_result"
    }
   ],
   "source": [
    "eq2=sp.Eq(x**2 + x - y,1)\n",
    "eq2"
   ]
  },
  {
   "cell_type": "code",
   "execution_count": 206,
   "id": "c5aaafcf-4990-456e-96a2-bfa5327531bc",
   "metadata": {},
   "outputs": [
    {
     "data": {
      "text/plain": [
       "[(-1, -1), (2, 5)]"
      ]
     },
     "execution_count": 206,
     "metadata": {},
     "output_type": "execute_result"
    }
   ],
   "source": [
    "sol=solve([eq1,eq2],[x,y])\n",
    "sol"
   ]
  },
  {
   "cell_type": "code",
   "execution_count": 209,
   "id": "bf2346be-dd22-458d-845d-c5a4b34df427",
   "metadata": {},
   "outputs": [
    {
     "data": {
      "text/latex": [
       "$\\displaystyle 3 x - 12 = - 6 y$"
      ],
      "text/plain": [
       "Eq(3*x - 12, -6*y)"
      ]
     },
     "execution_count": 209,
     "metadata": {},
     "output_type": "execute_result"
    }
   ],
   "source": [
    "# Likningssett 15 \n",
    "# oppgave 2a)\n",
    "\n",
    "eq1=sp.Eq(3*x - 12, -6*y)\n",
    "eq1"
   ]
  },
  {
   "cell_type": "code",
   "execution_count": 210,
   "id": "21e65be3-03f5-4646-8342-1a97b9728376",
   "metadata": {},
   "outputs": [
    {
     "data": {
      "text/latex": [
       "$\\displaystyle 4 x - 8 y = 16$"
      ],
      "text/plain": [
       "Eq(4*x - 8*y, 16)"
      ]
     },
     "execution_count": 210,
     "metadata": {},
     "output_type": "execute_result"
    }
   ],
   "source": [
    "eq2=sp.Eq(4*x - 8*y,16)\n",
    "eq2"
   ]
  },
  {
   "cell_type": "code",
   "execution_count": 211,
   "id": "360f0883-a455-428c-845b-fd9b7b97e857",
   "metadata": {},
   "outputs": [
    {
     "data": {
      "text/plain": [
       "{x: 4, y: 0}"
      ]
     },
     "execution_count": 211,
     "metadata": {},
     "output_type": "execute_result"
    }
   ],
   "source": [
    "sol=solve([eq1,eq2],[x,y])\n",
    "sol"
   ]
  },
  {
   "cell_type": "code",
   "execution_count": 216,
   "id": "56f15a5c-7b11-45b0-bda9-e7ec63d11bea",
   "metadata": {},
   "outputs": [
    {
     "data": {
      "text/latex": [
       "$\\displaystyle x^{2} + 4 x - 3 = 3 y$"
      ],
      "text/plain": [
       "Eq(x**2 + 4*x - 3, 3*y)"
      ]
     },
     "execution_count": 216,
     "metadata": {},
     "output_type": "execute_result"
    }
   ],
   "source": [
    "# Likningssett 15 \n",
    "# oppgave 2b)\n",
    "\n",
    "eq1=sp.Eq(x**2 + 4*x - 3,3*y)\n",
    "eq1"
   ]
  },
  {
   "cell_type": "code",
   "execution_count": 217,
   "id": "978d2538-aaa8-494c-9253-60581d6dda31",
   "metadata": {},
   "outputs": [
    {
     "data": {
      "text/latex": [
       "$\\displaystyle 2 y = 8 - x$"
      ],
      "text/plain": [
       "Eq(2*y, 8 - x)"
      ]
     },
     "execution_count": 217,
     "metadata": {},
     "output_type": "execute_result"
    }
   ],
   "source": [
    "eq2=sp.Eq(2*y,8 - x)\n",
    "eq2"
   ]
  },
  {
   "cell_type": "code",
   "execution_count": 218,
   "id": "acbb96c6-7eb1-4683-8fce-6936526d8871",
   "metadata": {},
   "outputs": [
    {
     "data": {
      "text/plain": [
       "[(-15/2, 31/4), (2, 3)]"
      ]
     },
     "execution_count": 218,
     "metadata": {},
     "output_type": "execute_result"
    }
   ],
   "source": [
    "sol=solve([eq1,eq2],[x,y])\n",
    "sol"
   ]
  },
  {
   "cell_type": "code",
   "execution_count": 219,
   "id": "68b89e4e-aa82-414c-a258-541f9a3b1a87",
   "metadata": {},
   "outputs": [
    {
     "data": {
      "text/latex": [
       "$\\displaystyle 4 x + 2 y = 12$"
      ],
      "text/plain": [
       "Eq(4*x + 2*y, 12)"
      ]
     },
     "execution_count": 219,
     "metadata": {},
     "output_type": "execute_result"
    }
   ],
   "source": [
    "# Likningssett 16\n",
    "# Oppgave 1a)\n",
    "\n",
    "eq1=sp.Eq(4*x + 2*y, 12)\n",
    "eq1"
   ]
  },
  {
   "cell_type": "code",
   "execution_count": 220,
   "id": "f8049e0b-6160-43a1-8ad2-727a15958796",
   "metadata": {},
   "outputs": [
    {
     "data": {
      "text/latex": [
       "$\\displaystyle 6 x - 2 y = 8$"
      ],
      "text/plain": [
       "Eq(6*x - 2*y, 8)"
      ]
     },
     "execution_count": 220,
     "metadata": {},
     "output_type": "execute_result"
    }
   ],
   "source": [
    "eq2=sp.Eq(6*x - 2*y,8)\n",
    "eq2"
   ]
  },
  {
   "cell_type": "code",
   "execution_count": 221,
   "id": "eb7dd8a5-4ce1-4cef-be7b-08c12cdac144",
   "metadata": {},
   "outputs": [
    {
     "data": {
      "text/plain": [
       "{x: 2, y: 2}"
      ]
     },
     "execution_count": 221,
     "metadata": {},
     "output_type": "execute_result"
    }
   ],
   "source": [
    "sol=solve([eq1,eq2],[x,y])\n",
    "sol"
   ]
  },
  {
   "cell_type": "code",
   "execution_count": 222,
   "id": "513a8cf4-a6f0-40a8-8b71-249ff7036ab1",
   "metadata": {},
   "outputs": [
    {
     "data": {
      "text/latex": [
       "$\\displaystyle 2 x + y^{2} = 25$"
      ],
      "text/plain": [
       "Eq(2*x + y**2, 25)"
      ]
     },
     "execution_count": 222,
     "metadata": {},
     "output_type": "execute_result"
    }
   ],
   "source": [
    "# Likningssett 16\n",
    "# Oppgave 1b)\n",
    "\n",
    "eq1=sp.Eq(2*x + y**2,25)\n",
    "eq1"
   ]
  },
  {
   "cell_type": "code",
   "execution_count": 223,
   "id": "47b3f315-4870-45f5-9f72-c491321b3265",
   "metadata": {},
   "outputs": [
    {
     "data": {
      "text/latex": [
       "$\\displaystyle x - 2 y = 10$"
      ],
      "text/plain": [
       "Eq(x - 2*y, 10)"
      ]
     },
     "execution_count": 223,
     "metadata": {},
     "output_type": "execute_result"
    }
   ],
   "source": [
    "eq2=sp.Eq(x - 2*y, 10)\n",
    "eq2"
   ]
  },
  {
   "cell_type": "code",
   "execution_count": 224,
   "id": "716ae5d3-9ed2-4fb6-929c-5e5de069a85b",
   "metadata": {},
   "outputs": [
    {
     "data": {
      "text/plain": [
       "[(0, -5), (12, 1)]"
      ]
     },
     "execution_count": 224,
     "metadata": {},
     "output_type": "execute_result"
    }
   ],
   "source": [
    "sol=solve([eq1,eq2],[x,y])\n",
    "sol"
   ]
  },
  {
   "cell_type": "code",
   "execution_count": 225,
   "id": "1542f88c-7c72-4b4b-8174-cc7139dc3c60",
   "metadata": {},
   "outputs": [
    {
     "data": {
      "text/latex": [
       "$\\displaystyle 4 x - 4 y = 8$"
      ],
      "text/plain": [
       "Eq(4*x - 4*y, 8)"
      ]
     },
     "execution_count": 225,
     "metadata": {},
     "output_type": "execute_result"
    }
   ],
   "source": [
    "# Likningssett 16\n",
    "# Oppgave 2a)\n",
    "\n",
    "eq1=sp.Eq(4*x - 4*y,8)\n",
    "eq1"
   ]
  },
  {
   "cell_type": "code",
   "execution_count": 226,
   "id": "befb4050-ffa0-4c4f-96c0-903f385bb17c",
   "metadata": {},
   "outputs": [
    {
     "data": {
      "text/latex": [
       "$\\displaystyle 9 x - 5 y = 26$"
      ],
      "text/plain": [
       "Eq(9*x - 5*y, 26)"
      ]
     },
     "execution_count": 226,
     "metadata": {},
     "output_type": "execute_result"
    }
   ],
   "source": [
    "eq2=sp.Eq(9*x - 5*y, 26)\n",
    "eq2"
   ]
  },
  {
   "cell_type": "code",
   "execution_count": 227,
   "id": "8be505c4-175b-48fc-8284-102e4450aff1",
   "metadata": {},
   "outputs": [
    {
     "data": {
      "text/plain": [
       "{x: 4, y: 2}"
      ]
     },
     "execution_count": 227,
     "metadata": {},
     "output_type": "execute_result"
    }
   ],
   "source": [
    "sol=solve([eq1,eq2],[x,y])\n",
    "sol"
   ]
  },
  {
   "cell_type": "code",
   "execution_count": 228,
   "id": "7b2dcd82-01ea-40a7-a62d-ecdba1e36d6b",
   "metadata": {},
   "outputs": [
    {
     "data": {
      "text/latex": [
       "$\\displaystyle x + 2 y^{2} = 15$"
      ],
      "text/plain": [
       "Eq(x + 2*y**2, 15)"
      ]
     },
     "execution_count": 228,
     "metadata": {},
     "output_type": "execute_result"
    }
   ],
   "source": [
    "# Likningssett 16\n",
    "# Oppgave 2b)\n",
    "\n",
    "eq1=sp.Eq(x +2*y**2,15)\n",
    "eq1"
   ]
  },
  {
   "cell_type": "code",
   "execution_count": 229,
   "id": "e3c00165-5d80-4b07-8078-23765037837e",
   "metadata": {},
   "outputs": [
    {
     "data": {
      "text/latex": [
       "$\\displaystyle x^{2} - 4 y^{2} = 33$"
      ],
      "text/plain": [
       "Eq(x**2 - 4*y**2, 33)"
      ]
     },
     "execution_count": 229,
     "metadata": {},
     "output_type": "execute_result"
    }
   ],
   "source": [
    "eq2=sp.Eq(x**2 - 4*y**2,33)\n",
    "eq2"
   ]
  },
  {
   "cell_type": "code",
   "execution_count": 230,
   "id": "23988485-76ec-40ba-bfa8-cdea22811db6",
   "metadata": {},
   "outputs": [
    {
     "data": {
      "text/plain": [
       "[(-9, -2*sqrt(3)), (-9, 2*sqrt(3)), (7, -2), (7, 2)]"
      ]
     },
     "execution_count": 230,
     "metadata": {},
     "output_type": "execute_result"
    }
   ],
   "source": [
    "sol=solve([eq1,eq2],[x,y])\n",
    "sol"
   ]
  },
  {
   "cell_type": "code",
   "execution_count": 231,
   "id": "0cc075e4-0f3e-4d8d-8b5f-6fab4cd3f01a",
   "metadata": {},
   "outputs": [
    {
     "data": {
      "text/latex": [
       "$\\displaystyle x y^{2} - x = 0$"
      ],
      "text/plain": [
       "Eq(x*y**2 - x, 0)"
      ]
     },
     "execution_count": 231,
     "metadata": {},
     "output_type": "execute_result"
    }
   ],
   "source": [
    "# Likningssett 17\n",
    "# Oppgave 1a)\n",
    "\n",
    "eq1=sp.Eq(x*y**2 - x,0)\n",
    "eq1"
   ]
  },
  {
   "cell_type": "code",
   "execution_count": 232,
   "id": "2e07013c-38d6-4984-a57a-630ea3a553e6",
   "metadata": {},
   "outputs": [
    {
     "data": {
      "text/latex": [
       "$\\displaystyle x + y^{2} = 16$"
      ],
      "text/plain": [
       "Eq(x + y**2, 16)"
      ]
     },
     "execution_count": 232,
     "metadata": {},
     "output_type": "execute_result"
    }
   ],
   "source": [
    "eq2=sp.Eq(x + y**2,16)\n",
    "eq2"
   ]
  },
  {
   "cell_type": "code",
   "execution_count": 233,
   "id": "2d1b2733-c1c3-49d9-b9a3-ce849931dd06",
   "metadata": {},
   "outputs": [
    {
     "data": {
      "text/plain": [
       "[(0, -4), (0, 4), (15, -1), (15, 1)]"
      ]
     },
     "execution_count": 233,
     "metadata": {},
     "output_type": "execute_result"
    }
   ],
   "source": [
    "sol=solve([eq1,eq2],[x,y])\n",
    "sol"
   ]
  },
  {
   "cell_type": "code",
   "execution_count": 234,
   "id": "f61e84fd-5551-4270-8161-cf08e7272d5d",
   "metadata": {},
   "outputs": [
    {
     "data": {
      "text/latex": [
       "$\\displaystyle x^{2} + y^{2} = 100$"
      ],
      "text/plain": [
       "Eq(x**2 + y**2, 100)"
      ]
     },
     "execution_count": 234,
     "metadata": {},
     "output_type": "execute_result"
    }
   ],
   "source": [
    "# Likningssett 17\n",
    "# Oppgave 1b)\n",
    "\n",
    "eq1=sp.Eq(x**2 + y**2, 100)\n",
    "eq1"
   ]
  },
  {
   "cell_type": "code",
   "execution_count": 235,
   "id": "e9763826-1c82-4834-89ae-dc6ba4af4440",
   "metadata": {},
   "outputs": [
    {
     "data": {
      "text/latex": [
       "$\\displaystyle x^{2} y - 36 y = 0$"
      ],
      "text/plain": [
       "Eq(x**2*y - 36*y, 0)"
      ]
     },
     "execution_count": 235,
     "metadata": {},
     "output_type": "execute_result"
    }
   ],
   "source": [
    "eq2=sp.Eq(x**2*y - 36*y,0)\n",
    "eq2"
   ]
  },
  {
   "cell_type": "code",
   "execution_count": 236,
   "id": "74517bcf-8ebd-4eb2-8ec7-74ce375b66fb",
   "metadata": {},
   "outputs": [
    {
     "data": {
      "text/plain": [
       "[(-10, 0), (-6, -8), (-6, 8), (6, -8), (6, 8), (10, 0)]"
      ]
     },
     "execution_count": 236,
     "metadata": {},
     "output_type": "execute_result"
    }
   ],
   "source": [
    "sol=solve([eq1,eq2], [x,y])\n",
    "sol"
   ]
  },
  {
   "cell_type": "code",
   "execution_count": 237,
   "id": "0fcd707d-e40f-4126-9aea-0e3e7e44d7e3",
   "metadata": {},
   "outputs": [
    {
     "data": {
      "text/latex": [
       "$\\displaystyle x y^{2} - 49 x = 0$"
      ],
      "text/plain": [
       "Eq(x*y**2 - 49*x, 0)"
      ]
     },
     "execution_count": 237,
     "metadata": {},
     "output_type": "execute_result"
    }
   ],
   "source": [
    "# Likningssett 17\n",
    "# Oppgave 2a)\n",
    "eq1=sp.Eq(x*y**2 - 49*x,0)\n",
    "eq1"
   ]
  },
  {
   "cell_type": "code",
   "execution_count": 238,
   "id": "718bcbb9-bb3c-4506-a22b-eeb7d4b87c39",
   "metadata": {},
   "outputs": [
    {
     "data": {
      "text/latex": [
       "$\\displaystyle x^{2} + y^{2} = 58$"
      ],
      "text/plain": [
       "Eq(x**2 + y**2, 58)"
      ]
     },
     "execution_count": 238,
     "metadata": {},
     "output_type": "execute_result"
    }
   ],
   "source": [
    "eq2=sp.Eq(x**2 + y**2,58)\n",
    "eq2"
   ]
  },
  {
   "cell_type": "code",
   "execution_count": 239,
   "id": "432c4e24-7fcd-44a3-807f-76a9a0418558",
   "metadata": {},
   "outputs": [
    {
     "data": {
      "text/plain": [
       "[(-3, -7), (-3, 7), (0, -sqrt(58)), (0, sqrt(58)), (3, -7), (3, 7)]"
      ]
     },
     "execution_count": 239,
     "metadata": {},
     "output_type": "execute_result"
    }
   ],
   "source": [
    "sol=solve([eq1,eq2], [x,y])\n",
    "sol"
   ]
  },
  {
   "cell_type": "code",
   "execution_count": 240,
   "id": "98cf3a64-b8b7-4d4b-8614-af33cc1a1bef",
   "metadata": {},
   "outputs": [
    {
     "data": {
      "text/latex": [
       "$\\displaystyle x^{2} + y^{2} = 1.25$"
      ],
      "text/plain": [
       "Eq(x**2 + y**2, 1.25)"
      ]
     },
     "execution_count": 240,
     "metadata": {},
     "output_type": "execute_result"
    }
   ],
   "source": [
    "# Likningssett 17\n",
    "# Oppgave 2b)\n",
    "\n",
    "eq1=sp.Eq(x**2 + y**2, 5/4)\n",
    "eq1"
   ]
  },
  {
   "cell_type": "code",
   "execution_count": 241,
   "id": "e1fee5bd-c7ef-4c49-8d9f-565812693612",
   "metadata": {},
   "outputs": [
    {
     "data": {
      "text/latex": [
       "$\\displaystyle 2 x y + y = 0$"
      ],
      "text/plain": [
       "Eq(2*x*y + y, 0)"
      ]
     },
     "execution_count": 241,
     "metadata": {},
     "output_type": "execute_result"
    }
   ],
   "source": [
    "eq2=sp.Eq(2*x*y + y,0)\n",
    "eq2"
   ]
  },
  {
   "cell_type": "code",
   "execution_count": 242,
   "id": "af38577d-1117-4292-a70d-e0968dbcab67",
   "metadata": {},
   "outputs": [
    {
     "data": {
      "text/plain": [
       "[(-1.11803398874989, 0.0),\n",
       " (-0.500000000000000, -1.00000000000000),\n",
       " (-0.500000000000000, 1.00000000000000),\n",
       " (1.11803398874989, 0.0)]"
      ]
     },
     "execution_count": 242,
     "metadata": {},
     "output_type": "execute_result"
    }
   ],
   "source": [
    "sol=solve([eq1,eq2], [x,y])\n",
    "sol"
   ]
  },
  {
   "cell_type": "code",
   "execution_count": 35,
   "id": "4a4f0310-b53f-46c6-9a97-140f3c3f57df",
   "metadata": {},
   "outputs": [
    {
     "data": {
      "text/latex": [
       "$\\displaystyle 5 x^{4}$"
      ],
      "text/plain": [
       "5*x**4"
      ]
     },
     "execution_count": 35,
     "metadata": {},
     "output_type": "execute_result"
    }
   ],
   "source": [
    "# Grunnleggende derivasjonsregler 19 \n",
    "# Oppgave 1a)\n",
    "\n",
    "x = sp.Symbol('x')\n",
    "f=sp.diff(x**5)\n",
    "f"
   ]
  },
  {
   "cell_type": "code",
   "execution_count": 39,
   "id": "c93f8e73-75bc-4ef1-95e0-7a60972d2bcc",
   "metadata": {},
   "outputs": [
    {
     "data": {
      "text/latex": [
       "$\\displaystyle 1$"
      ],
      "text/plain": [
       "1"
      ]
     },
     "execution_count": 39,
     "metadata": {},
     "output_type": "execute_result"
    }
   ],
   "source": [
    "# Grunnleggende derivasjonsregler 19 \n",
    "# Oppgave 1b)\n",
    "\n",
    "f=sp.diff(x + 12)\n",
    "f"
   ]
  },
  {
   "cell_type": "code",
   "execution_count": 41,
   "id": "ce0aaee8-1457-417e-9258-0c7f042650ea",
   "metadata": {},
   "outputs": [
    {
     "data": {
      "text/latex": [
       "$\\displaystyle 3 x^{2} + 8 x$"
      ],
      "text/plain": [
       "3*x**2 + 8*x"
      ]
     },
     "execution_count": 41,
     "metadata": {},
     "output_type": "execute_result"
    }
   ],
   "source": [
    "# Grunnleggende derivasjonsregler 19 \n",
    "# Oppgave 1c)\n",
    "\n",
    "f=sp.diff(x**3 + 4*x**2)\n",
    "f"
   ]
  },
  {
   "cell_type": "code",
   "execution_count": 43,
   "id": "6519c594-1201-44dd-9977-2e780621c53b",
   "metadata": {},
   "outputs": [
    {
     "data": {
      "text/latex": [
       "$\\displaystyle 6 x^{2}$"
      ],
      "text/plain": [
       "6*x**2"
      ]
     },
     "execution_count": 43,
     "metadata": {},
     "output_type": "execute_result"
    }
   ],
   "source": [
    "# Grunnleggende derivasjonsregler 19 \n",
    "# Oppgave 1d)\n",
    "\n",
    "f=sp.diff(2*x**3 + 1/2 * 36)\n",
    "f"
   ]
  },
  {
   "cell_type": "code",
   "execution_count": 48,
   "id": "93a58344-6cf6-4d2b-b09b-021a29f9c872",
   "metadata": {},
   "outputs": [
    {
     "data": {
      "text/latex": [
       "$\\displaystyle 0.5$"
      ],
      "text/plain": [
       "0.500000000000000"
      ]
     },
     "execution_count": 48,
     "metadata": {},
     "output_type": "execute_result"
    }
   ],
   "source": [
    "# Grunnleggende derivasjonsregler 19 \n",
    "# Oppgave 1e)\n",
    "\n",
    "f=sp.diff(1/2*x + 5**2)\n",
    "f"
   ]
  },
  {
   "cell_type": "code",
   "execution_count": 51,
   "id": "c02d0bf2-ea00-4979-bc91-07dee07504bb",
   "metadata": {},
   "outputs": [
    {
     "data": {
      "text/latex": [
       "$\\displaystyle 3 x^{2} - \\frac{1}{x^{2}}$"
      ],
      "text/plain": [
       "3*x**2 - 1/x**2"
      ]
     },
     "execution_count": 51,
     "metadata": {},
     "output_type": "execute_result"
    }
   ],
   "source": [
    "# Grunnleggende derivasjonsregler 19 \n",
    "# Oppgave 1f)\n",
    "\n",
    "f=sp.diff(x**3 + (1/x))\n",
    "f"
   ]
  },
  {
   "cell_type": "code",
   "execution_count": 55,
   "id": "18723304-a479-445c-9d94-055e1f76431d",
   "metadata": {},
   "outputs": [
    {
     "data": {
      "text/latex": [
       "$\\displaystyle 3 x^{2} - 2 x + 0.25$"
      ],
      "text/plain": [
       "3*x**2 - 2*x + 0.25"
      ]
     },
     "execution_count": 55,
     "metadata": {},
     "output_type": "execute_result"
    }
   ],
   "source": [
    "# Grunnleggende derivasjonsregler 19 \n",
    "# Oppgave 1g)\n",
    "\n",
    "f=sp.diff(x**3 - x**2 + (1/4*x))\n",
    "f"
   ]
  },
  {
   "cell_type": "code",
   "execution_count": 58,
   "id": "8ce900e6-125e-4087-b1ea-04e4619993b1",
   "metadata": {},
   "outputs": [
    {
     "data": {
      "text/latex": [
       "$\\displaystyle 36 x^{5} - \\frac{1}{x^{2}}$"
      ],
      "text/plain": [
       "36*x**5 - 1/x**2"
      ]
     },
     "execution_count": 58,
     "metadata": {},
     "output_type": "execute_result"
    }
   ],
   "source": [
    "# Grunnleggende derivasjonsregler 19 \n",
    "# Oppgave 2a)\n",
    "\n",
    "f=sp.diff(1/x +6*x**6)\n",
    "f"
   ]
  },
  {
   "cell_type": "code",
   "execution_count": 60,
   "id": "01999552-f22a-402f-8b5a-10ff14f4c7fc",
   "metadata": {},
   "outputs": [
    {
     "data": {
      "text/latex": [
       "$\\displaystyle 1.5 x^{2} - 1$"
      ],
      "text/plain": [
       "1.5*x**2 - 1"
      ]
     },
     "execution_count": 60,
     "metadata": {},
     "output_type": "execute_result"
    }
   ],
   "source": [
    "# Grunnleggende derivasjonsregler 19 \n",
    "# Oppgave 2b)\n",
    "\n",
    "f=sp.diff(-x + 1/2*x**3)\n",
    "f"
   ]
  },
  {
   "cell_type": "code",
   "execution_count": 64,
   "id": "fe23abb1-532e-410b-bd41-91c61401524f",
   "metadata": {},
   "outputs": [
    {
     "data": {
      "text/latex": [
       "$\\displaystyle x^{2} + x \\left(2 x + 2\\right) + 2 x - 3$"
      ],
      "text/plain": [
       "x**2 + x*(2*x + 2) + 2*x - 3"
      ]
     },
     "execution_count": 64,
     "metadata": {},
     "output_type": "execute_result"
    }
   ],
   "source": [
    "# Grunnleggende derivasjonsregler 19 \n",
    "# Oppgave 2c)\n",
    "\n",
    "f=sp.diff(x*(x**2 + 2*x - 3))\n",
    "f"
   ]
  },
  {
   "cell_type": "code",
   "execution_count": 73,
   "id": "442479d4-fd62-4987-9bdb-d75286332674",
   "metadata": {},
   "outputs": [
    {
     "data": {
      "text/latex": [
       "$\\displaystyle 4.0 x^{11}$"
      ],
      "text/plain": [
       "4.0*x**11"
      ]
     },
     "execution_count": 73,
     "metadata": {},
     "output_type": "execute_result"
    }
   ],
   "source": [
    "# Produkt- og brøkregelen 20\n",
    "# Oppgave 1a)\n",
    "\n",
    "f=sp.diff(1/3*x**12)\n",
    "f"
   ]
  },
  {
   "cell_type": "code",
   "execution_count": 79,
   "id": "e6e08a7b-5810-453f-8c12-600547e9fe6c",
   "metadata": {},
   "outputs": [],
   "source": [
    "# Produkt- og brøkregelen 20\n",
    "# Oppgave 1b)"
   ]
  },
  {
   "cell_type": "code",
   "execution_count": 80,
   "id": "7556c27e-c295-48bb-bc70-fc43e7df1768",
   "metadata": {},
   "outputs": [],
   "source": [
    "# Produkt- og brøkregelen 20\n",
    "# Oppgave 1c)"
   ]
  },
  {
   "cell_type": "code",
   "execution_count": 81,
   "id": "9cc96211-d5db-4ef4-af19-ff7eda4db01c",
   "metadata": {},
   "outputs": [],
   "source": [
    "# Produkt- og brøkregelen 20\n",
    "# Oppgave 1d)"
   ]
  },
  {
   "cell_type": "code",
   "execution_count": 82,
   "id": "2a304fe1-b24d-4273-a353-5d9f9eefad49",
   "metadata": {},
   "outputs": [
    {
     "data": {
      "text/latex": [
       "$\\displaystyle 9 x^{8}$"
      ],
      "text/plain": [
       "9*x**8"
      ]
     },
     "execution_count": 82,
     "metadata": {},
     "output_type": "execute_result"
    }
   ],
   "source": [
    "# Produkt- og brøkregelen 20\n",
    "# Oppgave 1e)\n",
    "\n",
    "f=sp.diff(x**4*x**5)\n",
    "f"
   ]
  },
  {
   "cell_type": "code",
   "execution_count": 243,
   "id": "59b773c0-bb8d-412c-a14c-41d9304b422c",
   "metadata": {},
   "outputs": [],
   "source": [
    "# Produkt- og brøkregelen 20\n",
    "# Oppgave 1f)"
   ]
  },
  {
   "cell_type": "code",
   "execution_count": 244,
   "id": "65980e71-cc1f-4951-9648-d225e2eebfe3",
   "metadata": {},
   "outputs": [
    {
     "data": {
      "text/latex": [
       "$\\displaystyle - \\frac{6}{x^{4}}$"
      ],
      "text/plain": [
       "-6/x**4"
      ]
     },
     "execution_count": 244,
     "metadata": {},
     "output_type": "execute_result"
    }
   ],
   "source": [
    "# Produkt- og brøkregelen 20\n",
    "# Oppgave 1g)\n",
    "\n",
    "x=sp.symbols (\"x\")\n",
    "f=sp.diff(2/x**3)\n",
    "f"
   ]
  },
  {
   "cell_type": "code",
   "execution_count": 245,
   "id": "e8edbea2-7b79-487b-afe8-73e85fc757e7",
   "metadata": {},
   "outputs": [
    {
     "data": {
      "text/latex": [
       "$\\displaystyle 2 x + \\frac{6}{x^{4}}$"
      ],
      "text/plain": [
       "2*x + 6/x**4"
      ]
     },
     "execution_count": 245,
     "metadata": {},
     "output_type": "execute_result"
    }
   ],
   "source": [
    "# Produkt- og brøkregelen 20\n",
    "# Oppgave 1h)\n",
    "\n",
    "x=sp.symbols (\"x\")\n",
    "f=sp.diff(x**2 - 2/x**3)\n",
    "f"
   ]
  },
  {
   "cell_type": "code",
   "execution_count": null,
   "id": "df40885c-03f0-4779-aee8-980967c32534",
   "metadata": {},
   "outputs": [],
   "source": [
    "# Produkt- og brøkregelen 20\n",
    "# Oppgave 1i)"
   ]
  },
  {
   "cell_type": "code",
   "execution_count": 246,
   "id": "03325b65-cc22-424e-9a5d-ae5e035823ec",
   "metadata": {},
   "outputs": [
    {
     "data": {
      "text/latex": [
       "$\\displaystyle 3 x^{2} + 1$"
      ],
      "text/plain": [
       "3*x**2 + 1"
      ]
     },
     "execution_count": 246,
     "metadata": {},
     "output_type": "execute_result"
    }
   ],
   "source": [
    "# Produkt- og brøkregelen 20\n",
    "# Oppgave 1j)\n",
    "\n",
    "f=sp.diff(x*(x**2 +1))\n",
    "f"
   ]
  },
  {
   "cell_type": "code",
   "execution_count": null,
   "id": "dd0211ba-75a1-4049-a965-c96bcb4cacb5",
   "metadata": {},
   "outputs": [],
   "source": [
    "# Produkt- og brøkregelen 20\n",
    "# Oppgave 1k)"
   ]
  },
  {
   "cell_type": "code",
   "execution_count": null,
   "id": "8ddb18b4-b22d-45cc-b2bb-667693807552",
   "metadata": {},
   "outputs": [],
   "source": [
    "# Produkt- og brøkregelen 20\n",
    "# Oppgave 1l)"
   ]
  },
  {
   "cell_type": "code",
   "execution_count": null,
   "id": "be329204-f04c-4817-b386-7dcbf49804b8",
   "metadata": {},
   "outputs": [],
   "source": [
    "# Produkt- og brøkregelen 20\n",
    "# Oppgave 1m)"
   ]
  },
  {
   "cell_type": "code",
   "execution_count": null,
   "id": "3a794f30-3d0f-4b52-aa7f-43a863761929",
   "metadata": {},
   "outputs": [],
   "source": [
    "# Produkt- og brøkregelen 20\n",
    "# Oppgave 2a)"
   ]
  },
  {
   "cell_type": "code",
   "execution_count": null,
   "id": "3e660eb4-5307-4cf4-8aad-f889adfc5bc5",
   "metadata": {},
   "outputs": [],
   "source": [
    "# Produkt- og brøkregelen 20\n",
    "# Oppgave 2b)"
   ]
  },
  {
   "cell_type": "code",
   "execution_count": null,
   "id": "c2aa81f1-2006-471d-a147-b8829ea4df5f",
   "metadata": {},
   "outputs": [],
   "source": [
    "# Produkt- og brøkregelen 20\n",
    "# Oppgave 2c)"
   ]
  },
  {
   "cell_type": "code",
   "execution_count": 94,
   "id": "c86797d2-eff1-4473-b79b-afc4ec445d65",
   "metadata": {},
   "outputs": [
    {
     "data": {
      "text/latex": [
       "$\\displaystyle \\left(3 x^{2} + 6\\right)^{5}$"
      ],
      "text/plain": [
       "(3*x**2 + 6)**5"
      ]
     },
     "execution_count": 94,
     "metadata": {},
     "output_type": "execute_result"
    }
   ],
   "source": [
    "# Kjerneregelen 21\n",
    "# Oppgave 1a)\n",
    "\n",
    "f=sp.diff(x**3 + 6*x)**5\n",
    "f"
   ]
  },
  {
   "cell_type": "code",
   "execution_count": 88,
   "id": "b2918c63-3d3f-4fd5-b213-7f8e097fac5d",
   "metadata": {},
   "outputs": [
    {
     "data": {
      "text/latex": [
       "$\\displaystyle 2.0 x$"
      ],
      "text/plain": [
       "2.0*x"
      ]
     },
     "execution_count": 88,
     "metadata": {},
     "output_type": "execute_result"
    }
   ],
   "source": [
    "# Kjerneregelen 21\n",
    "# Oppgave 1b)\n",
    "\n",
    "f=sp.diff(1/2*(2*x**2 + 5))\n",
    "f"
   ]
  },
  {
   "cell_type": "code",
   "execution_count": 103,
   "id": "30b4e418-b5da-4a5e-8f9c-63706b051bec",
   "metadata": {},
   "outputs": [
    {
     "data": {
      "text/latex": [
       "$\\displaystyle \\left(- \\frac{4 x^{2}}{\\left(x^{2} + 3\\right)^{2}} + \\frac{2}{x^{2} + 3}\\right)^{4}$"
      ],
      "text/plain": [
       "(-4*x**2/(x**2 + 3)**2 + 2/(x**2 + 3))**4"
      ]
     },
     "execution_count": 103,
     "metadata": {},
     "output_type": "execute_result"
    }
   ],
   "source": [
    "# Kjerneregelen 21\n",
    "# Oppgave 1c)\n",
    "\n",
    "f=sp.diff(2*x/(x**2+3))**4\n",
    "f"
   ]
  },
  {
   "cell_type": "code",
   "execution_count": null,
   "id": "5cb71e72-034c-4169-ae62-13ad1684e86c",
   "metadata": {},
   "outputs": [],
   "source": [
    "# Kjerneregelen 21\n",
    "# Oppgave 1d)"
   ]
  },
  {
   "cell_type": "code",
   "execution_count": null,
   "id": "4befcb5c-eb2a-4fb7-8b3a-0ab7e907007d",
   "metadata": {},
   "outputs": [],
   "source": [
    "# Kjerneregelen 21\n",
    "# Oppgave 1e)"
   ]
  },
  {
   "cell_type": "code",
   "execution_count": null,
   "id": "f3b7bcd3-63c8-40db-b6a9-2f2e03f9e43e",
   "metadata": {},
   "outputs": [],
   "source": [
    "# Kjerneregelen 21\n",
    "# Oppgave 1f)"
   ]
  },
  {
   "cell_type": "code",
   "execution_count": null,
   "id": "8e8de9c8-66da-4993-a830-a9690fb0bce6",
   "metadata": {},
   "outputs": [],
   "source": [
    "# Kjerneregelen 21\n",
    "# Oppgave 1g)"
   ]
  },
  {
   "cell_type": "code",
   "execution_count": null,
   "id": "4cfdd31b-a2ba-4449-8048-0a318b00d233",
   "metadata": {},
   "outputs": [],
   "source": [
    "# Kjerneregelen 21\n",
    "# Oppgave 1h)"
   ]
  },
  {
   "cell_type": "code",
   "execution_count": null,
   "id": "8761674e-f1f0-49c9-9fff-fff5316deac2",
   "metadata": {},
   "outputs": [],
   "source": [
    "# Kjerneregelen 21\n",
    "# Oppgave 1i)"
   ]
  },
  {
   "cell_type": "code",
   "execution_count": null,
   "id": "87c74ce1-fb9f-4422-8f57-d1e002f62a37",
   "metadata": {},
   "outputs": [],
   "source": [
    "# Kjerneregelen 21\n",
    "# Oppgave 2a)"
   ]
  },
  {
   "cell_type": "code",
   "execution_count": null,
   "id": "2e70fd30-bb86-4ee6-b0ae-24d72775b5c1",
   "metadata": {},
   "outputs": [],
   "source": [
    "# Kjerneregelen 21\n",
    "# Oppgave 2b)"
   ]
  },
  {
   "cell_type": "code",
   "execution_count": null,
   "id": "1986e7a0-0e28-4230-adbe-b96bc7e85ff1",
   "metadata": {},
   "outputs": [],
   "source": [
    "# Kjerneregelen 21\n",
    "# Oppgave 2c)"
   ]
  },
  {
   "cell_type": "code",
   "execution_count": null,
   "id": "c172d81a-12fa-4b8b-90fe-ef850342dbad",
   "metadata": {},
   "outputs": [],
   "source": [
    "# Kjerneregelen 21\n",
    "# Oppgave 2d)"
   ]
  },
  {
   "cell_type": "code",
   "execution_count": null,
   "id": "bdd0e198-66f9-43d5-9c31-73d83cc52144",
   "metadata": {},
   "outputs": [],
   "source": [
    "# Kjerneregelen 21\n",
    "# Oppgave 2e)"
   ]
  },
  {
   "cell_type": "code",
   "execution_count": null,
   "id": "dd7c76eb-ad01-40c9-99bf-d7e429179c70",
   "metadata": {},
   "outputs": [],
   "source": [
    "# Kjerneregelen 21\n",
    "# Oppgave 2f)"
   ]
  },
  {
   "cell_type": "code",
   "execution_count": 248,
   "id": "47a0a265-a96b-43c5-b396-d79c831c4c66",
   "metadata": {},
   "outputs": [
    {
     "data": {
      "text/latex": [
       "$\\displaystyle \\frac{1}{x}$"
      ],
      "text/plain": [
       "1/x"
      ]
     },
     "execution_count": 248,
     "metadata": {},
     "output_type": "execute_result"
    }
   ],
   "source": [
    "# Derivasjon av logaritme- og eksponentialfunksjoner 22\n",
    "# Oppgave 1a)\n",
    "\n",
    "f=(sp.log(5*x))\n",
    "derivate_f = sp.diff(f)\n",
    "derivate_f"
   ]
  },
  {
   "cell_type": "code",
   "execution_count": 249,
   "id": "10dd3648-12d0-4590-afa4-0654ca3b00f9",
   "metadata": {},
   "outputs": [
    {
     "data": {
      "text/latex": [
       "$\\displaystyle - 2 e^{- 2 x}$"
      ],
      "text/plain": [
       "-2*exp(-2*x)"
      ]
     },
     "execution_count": 249,
     "metadata": {},
     "output_type": "execute_result"
    }
   ],
   "source": [
    "# Derivasjon av logaritme- og eksponentialfunksjoner 22\n",
    "# Oppgave 1b)\n",
    "\n",
    "f= sp.exp(-2*x)\n",
    "derivate_f = f.diff(x)\n",
    "derivate_f"
   ]
  },
  {
   "cell_type": "code",
   "execution_count": 117,
   "id": "b5a962e3-c8f2-46d0-97b4-8a86fa43b1a7",
   "metadata": {},
   "outputs": [
    {
     "data": {
      "text/latex": [
       "$\\displaystyle \\frac{1}{x}$"
      ],
      "text/plain": [
       "1/x"
      ]
     },
     "execution_count": 117,
     "metadata": {},
     "output_type": "execute_result"
    }
   ],
   "source": [
    "# Derivasjon av logaritme- og eksponentialfunksjoner 22\n",
    "# Oppgave 1c)\n",
    "\n",
    "f=sp.log(12*x) - 3\n",
    "s=f.diff(x)\n",
    "s"
   ]
  },
  {
   "cell_type": "code",
   "execution_count": 250,
   "id": "2f91abe7-e4bd-4cf7-be79-001e68a04408",
   "metadata": {},
   "outputs": [
    {
     "data": {
      "text/latex": [
       "$\\displaystyle 2^{x} \\log{\\left(2 \\right)}$"
      ],
      "text/plain": [
       "2**x*log(2)"
      ]
     },
     "execution_count": 250,
     "metadata": {},
     "output_type": "execute_result"
    }
   ],
   "source": [
    "# Derivasjon av logaritme- og eksponentialfunksjoner 22\n",
    "# Oppgave 1d)\n",
    "f=sp.diff(2**x)\n",
    "f"
   ]
  },
  {
   "cell_type": "code",
   "execution_count": 251,
   "id": "ba262b30-afaa-400a-9e79-e4f47550be09",
   "metadata": {},
   "outputs": [
    {
     "data": {
      "text/latex": [
       "$\\displaystyle 3 e^{3 x + 5}$"
      ],
      "text/plain": [
       "3*exp(3*x + 5)"
      ]
     },
     "execution_count": 251,
     "metadata": {},
     "output_type": "execute_result"
    }
   ],
   "source": [
    "# Derivasjon av logaritme- og eksponentialfunksjoner 22\n",
    "# Oppgave 1e)\n",
    "\n",
    "f=sp.exp(3*x+5)\n",
    "derivate_f = f.diff(x)\n",
    "derivate_f"
   ]
  },
  {
   "cell_type": "code",
   "execution_count": 109,
   "id": "68faf797-02ee-46b8-ad1a-bf5bd7461fe8",
   "metadata": {},
   "outputs": [
    {
     "data": {
      "text/latex": [
       "$\\displaystyle \\frac{5 x^{4}}{x^{5} + 1}$"
      ],
      "text/plain": [
       "5*x**4/(x**5 + 1)"
      ]
     },
     "execution_count": 109,
     "metadata": {},
     "output_type": "execute_result"
    }
   ],
   "source": [
    "# Derivasjon av logaritme- og eksponentialfunksjoner 22\n",
    "# Oppgave 1f)\n",
    "\n",
    "f=sp.log(x**5+1)\n",
    "s=f.diff(x)\n",
    "s"
   ]
  },
  {
   "cell_type": "code",
   "execution_count": 108,
   "id": "31a2d591-7d46-4582-8546-21c831736516",
   "metadata": {},
   "outputs": [
    {
     "data": {
      "text/latex": [
       "$\\displaystyle \\left(8 x + 8\\right) e^{4 x^{2} + 8 x}$"
      ],
      "text/plain": [
       "(8*x + 8)*exp(4*x**2 + 8*x)"
      ]
     },
     "execution_count": 108,
     "metadata": {},
     "output_type": "execute_result"
    }
   ],
   "source": [
    "# Derivasjon av logaritme- og eksponentialfunksjoner 22\n",
    "# Oppgave 1g)\n",
    "\n",
    "f=sp.exp(4*x**2+8*x)\n",
    "s=f.diff(x)\n",
    "s"
   ]
  },
  {
   "cell_type": "code",
   "execution_count": 110,
   "id": "962e6e2f-ece1-443d-8f38-5320ed0b45ef",
   "metadata": {},
   "outputs": [
    {
     "data": {
      "text/latex": [
       "$\\displaystyle - \\frac{1}{x}$"
      ],
      "text/plain": [
       "-1/x"
      ]
     },
     "execution_count": 110,
     "metadata": {},
     "output_type": "execute_result"
    }
   ],
   "source": [
    "# Derivasjon av logaritme- og eksponentialfunksjoner 22\n",
    "# Oppgave 1h)\n",
    "\n",
    "f=sp.log(1/x)\n",
    "s=f.diff(x)\n",
    "s"
   ]
  },
  {
   "cell_type": "code",
   "execution_count": 125,
   "id": "0a27a594-ca25-40c8-91ad-91e55eb2b041",
   "metadata": {},
   "outputs": [
    {
     "data": {
      "text/latex": [
       "$\\displaystyle 4 \\cdot 3^{4 x} \\log{\\left(3 \\right)} + \\frac{6}{x}$"
      ],
      "text/plain": [
       "4*3**(4*x)*log(3) + 6/x"
      ]
     },
     "execution_count": 125,
     "metadata": {},
     "output_type": "execute_result"
    }
   ],
   "source": [
    "# Derivasjon av logaritme- og eksponentialfunksjoner 22\n",
    "# Oppgave 1i)\n",
    "\n",
    "f=6*sp.log(x) + 3**(4*x)\n",
    "s=f.diff(x)\n",
    "s"
   ]
  },
  {
   "cell_type": "code",
   "execution_count": 122,
   "id": "c1cdfbac-48c7-4ebd-922c-c15538b539c0",
   "metadata": {},
   "outputs": [
    {
     "data": {
      "text/latex": [
       "$\\displaystyle - x e^{- x} + e^{- x}$"
      ],
      "text/plain": [
       "-x*exp(-x) + exp(-x)"
      ]
     },
     "execution_count": 122,
     "metadata": {},
     "output_type": "execute_result"
    }
   ],
   "source": [
    "# Derivasjon av logaritme- og eksponentialfunksjoner 22\n",
    "# Oppgave 1j)\n",
    "\n",
    "f=x*sp.exp(-x)\n",
    "s=f.diff(x)\n",
    "s"
   ]
  },
  {
   "cell_type": "code",
   "execution_count": 124,
   "id": "10e2dfec-19fb-4bd0-8a18-9f7ede2a25d5",
   "metadata": {},
   "outputs": [
    {
     "data": {
      "text/latex": [
       "$\\displaystyle \\frac{2 x^{3}}{x^{2} + 2} + 2 x \\log{\\left(x^{2} + 2 \\right)}$"
      ],
      "text/plain": [
       "2*x**3/(x**2 + 2) + 2*x*log(x**2 + 2)"
      ]
     },
     "execution_count": 124,
     "metadata": {},
     "output_type": "execute_result"
    }
   ],
   "source": [
    "# Derivasjon av logaritme- og eksponentialfunksjoner 22\n",
    "# Oppgave 1k)\n",
    "\n",
    "f=sp.log(x**2+2)*x**2\n",
    "s=f.diff(x)\n",
    "s"
   ]
  },
  {
   "cell_type": "code",
   "execution_count": 137,
   "id": "1e19fe3d-52f3-4492-9c0e-6e79bcb00b04",
   "metadata": {},
   "outputs": [
    {
     "data": {
      "text/latex": [
       "$\\displaystyle 2 x^{3} e^{2 x} + 3 x^{2} e^{2 x}$"
      ],
      "text/plain": [
       "2*x**3*exp(2*x) + 3*x**2*exp(2*x)"
      ]
     },
     "execution_count": 137,
     "metadata": {},
     "output_type": "execute_result"
    }
   ],
   "source": [
    "# Derivasjon av logaritme- og eksponentialfunksjoner 22\n",
    "# Oppgave 2a)\n",
    "\n",
    "f=(x**3)*(sp.exp(1)**(2*x))\n",
    "s=f.diff(x)\n",
    "s"
   ]
  },
  {
   "cell_type": "code",
   "execution_count": 142,
   "id": "9f9529c6-ae65-4b9a-aa5a-09cc94863452",
   "metadata": {},
   "outputs": [
    {
     "data": {
      "text/latex": [
       "$\\displaystyle \\frac{2 x + \\frac{2}{x^{3}}}{x^{2} + 1 - \\frac{1}{x^{2}}}$"
      ],
      "text/plain": [
       "(2*x + 2/x**3)/(x**2 + 1 - 1/x**2)"
      ]
     },
     "execution_count": 142,
     "metadata": {},
     "output_type": "execute_result"
    }
   ],
   "source": [
    "# Derivasjon av logaritme- og eksponentialfunksjoner 22\n",
    "# Oppgave 2b)\n",
    "\n",
    "f=sp.log(x**2-1/x**2+1)\n",
    "s=f.diff(x)\n",
    "s"
   ]
  },
  {
   "cell_type": "code",
   "execution_count": 143,
   "id": "c012d7c0-72d7-48a0-8fc3-dfebe252f6db",
   "metadata": {},
   "outputs": [
    {
     "data": {
      "text/latex": [
       "$\\displaystyle \\frac{2 x^{3}}{x^{2} + 2} + 2 x \\log{\\left(x^{2} + 2 \\right)}$"
      ],
      "text/plain": [
       "2*x**3/(x**2 + 2) + 2*x*log(x**2 + 2)"
      ]
     },
     "execution_count": 143,
     "metadata": {},
     "output_type": "execute_result"
    }
   ],
   "source": [
    "# Derivasjon av logaritme- og eksponentialfunksjoner 22\n",
    "# Oppgave 2c)\n",
    "\n",
    "f=sp.log(x**2+2)*x**2\n",
    "s=f.diff(x)\n",
    "s"
   ]
  },
  {
   "cell_type": "code",
   "execution_count": 144,
   "id": "728b2814-e88f-4a0b-a68b-1c245b03a249",
   "metadata": {},
   "outputs": [
    {
     "data": {
      "text/latex": [
       "$\\displaystyle - \\frac{2 e x}{\\left(x^{2} + 1\\right)^{2}}$"
      ],
      "text/plain": [
       "-2*E*x/(x**2 + 1)**2"
      ]
     },
     "execution_count": 144,
     "metadata": {},
     "output_type": "execute_result"
    }
   ],
   "source": [
    "# Derivasjon av logaritme- og eksponentialfunksjoner 22\n",
    "# Oppgave 2d)\n",
    "\n",
    "f=sp.exp(1**(-x))/(x**2+1)\n",
    "s=f.diff(x)\n",
    "s"
   ]
  }
 ],
 "metadata": {
  "kernelspec": {
   "display_name": "Python 3 (ipykernel)",
   "language": "python",
   "name": "python3"
  },
  "language_info": {
   "codemirror_mode": {
    "name": "ipython",
    "version": 3
   },
   "file_extension": ".py",
   "mimetype": "text/x-python",
   "name": "python",
   "nbconvert_exporter": "python",
   "pygments_lexer": "ipython3",
   "version": "3.9.5"
  }
 },
 "nbformat": 4,
 "nbformat_minor": 5
}
